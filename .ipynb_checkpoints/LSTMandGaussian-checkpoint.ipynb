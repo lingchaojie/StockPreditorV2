{
 "cells": [
  {
   "cell_type": "markdown",
   "metadata": {},
   "source": [
    "### Stock model predictor\n",
    "\n",
    "\n",
    "This notebook demonstrate a novelty approach of using deep neural network for stock price prediction model. We compare the result to Gaussian process regressor with Metern and RBF Kernals "
   ]
  },
  {
   "cell_type": "raw",
   "metadata": {},
   "source": [
    "Import required libraries. Including Numpy, pandas, Matplotlib, Keras and TensorFlow"
   ]
  },
  {
   "cell_type": "code",
   "execution_count": 80,
   "metadata": {},
   "outputs": [
    {
     "data": {
      "text/plain": [
       "<Figure size 1440x720 with 0 Axes>"
      ]
     },
     "execution_count": 80,
     "metadata": {},
     "output_type": "execute_result"
    },
    {
     "data": {
      "text/plain": [
       "<Figure size 1440x720 with 0 Axes>"
      ]
     },
     "metadata": {},
     "output_type": "display_data"
    }
   ],
   "source": [
    "import math\n",
    "import numpy as np\n",
    "import pandas as pd\n",
    "import matplotlib.pyplot as plt\n",
    "plt.figure(figsize=(20,10))"
   ]
  },
  {
   "cell_type": "code",
   "execution_count": 81,
   "metadata": {},
   "outputs": [],
   "source": [
    "from keras.layers.core import Dense, Activation, Dropout\n",
    "from keras.layers.recurrent import LSTM\n",
    "from keras.models import Sequential, load_model"
   ]
  },
  {
   "cell_type": "code",
   "execution_count": 82,
   "metadata": {},
   "outputs": [],
   "source": [
    "from sklearn.cross_validation import  train_test_split\n",
    "from sklearn.preprocessing import MinMaxScaler\n",
    "from sklearn.metrics import mean_squared_error"
   ]
  },
  {
   "cell_type": "markdown",
   "metadata": {},
   "source": [
    "Define a function to read the csv file which contains the stock data, and print some sample data"
   ]
  },
  {
   "cell_type": "code",
   "execution_count": 83,
   "metadata": {},
   "outputs": [
    {
     "data": {
      "text/html": [
       "<div>\n",
       "<style scoped>\n",
       "    .dataframe tbody tr th:only-of-type {\n",
       "        vertical-align: middle;\n",
       "    }\n",
       "\n",
       "    .dataframe tbody tr th {\n",
       "        vertical-align: top;\n",
       "    }\n",
       "\n",
       "    .dataframe thead th {\n",
       "        text-align: right;\n",
       "    }\n",
       "</style>\n",
       "<table border=\"1\" class=\"dataframe\">\n",
       "  <thead>\n",
       "    <tr style=\"text-align: right;\">\n",
       "      <th></th>\n",
       "      <th>Date</th>\n",
       "      <th>Open</th>\n",
       "      <th>High</th>\n",
       "      <th>Low</th>\n",
       "      <th>Close</th>\n",
       "      <th>Adj Close</th>\n",
       "      <th>Volume</th>\n",
       "    </tr>\n",
       "  </thead>\n",
       "  <tbody>\n",
       "    <tr>\n",
       "      <th>0</th>\n",
       "      <td>27/11/2017</td>\n",
       "      <td>98.309998</td>\n",
       "      <td>99.129997</td>\n",
       "      <td>97.930000</td>\n",
       "      <td>97.930000</td>\n",
       "      <td>95.736626</td>\n",
       "      <td>13076200</td>\n",
       "    </tr>\n",
       "    <tr>\n",
       "      <th>1</th>\n",
       "      <td>28/11/2017</td>\n",
       "      <td>98.209999</td>\n",
       "      <td>101.699997</td>\n",
       "      <td>97.970001</td>\n",
       "      <td>101.360001</td>\n",
       "      <td>99.089813</td>\n",
       "      <td>16773000</td>\n",
       "    </tr>\n",
       "    <tr>\n",
       "      <th>2</th>\n",
       "      <td>29/11/2017</td>\n",
       "      <td>102.410004</td>\n",
       "      <td>104.220001</td>\n",
       "      <td>101.959999</td>\n",
       "      <td>103.730003</td>\n",
       "      <td>101.406731</td>\n",
       "      <td>21105500</td>\n",
       "    </tr>\n",
       "    <tr>\n",
       "      <th>3</th>\n",
       "      <td>30/11/2017</td>\n",
       "      <td>104.739998</td>\n",
       "      <td>106.660004</td>\n",
       "      <td>104.040001</td>\n",
       "      <td>104.519997</td>\n",
       "      <td>102.179024</td>\n",
       "      <td>23945900</td>\n",
       "    </tr>\n",
       "    <tr>\n",
       "      <th>4</th>\n",
       "      <td>01/12/2017</td>\n",
       "      <td>104.900002</td>\n",
       "      <td>105.320000</td>\n",
       "      <td>102.199997</td>\n",
       "      <td>104.790001</td>\n",
       "      <td>102.442986</td>\n",
       "      <td>19683500</td>\n",
       "    </tr>\n",
       "  </tbody>\n",
       "</table>\n",
       "</div>"
      ],
      "text/plain": [
       "         Date        Open        High         Low       Close   Adj Close  \\\n",
       "0  27/11/2017   98.309998   99.129997   97.930000   97.930000   95.736626   \n",
       "1  28/11/2017   98.209999  101.699997   97.970001  101.360001   99.089813   \n",
       "2  29/11/2017  102.410004  104.220001  101.959999  103.730003  101.406731   \n",
       "3  30/11/2017  104.739998  106.660004  104.040001  104.519997  102.179024   \n",
       "4  01/12/2017  104.900002  105.320000  102.199997  104.790001  102.442986   \n",
       "\n",
       "     Volume  \n",
       "0  13076200  \n",
       "1  16773000  \n",
       "2  21105500  \n",
       "3  23945900  \n",
       "4  19683500  "
      ]
     },
     "execution_count": 83,
     "metadata": {},
     "output_type": "execute_result"
    }
   ],
   "source": [
    "np.random.seed(7)\n",
    "def readStockData(file, path='./data/'):\n",
    "\n",
    "    data = pd.read_csv(path+file)\n",
    "    return data\n",
    "\n",
    "dataset = readStockData('JPM.csv')\n",
    "dataset.head()\n"
   ]
  },
  {
   "cell_type": "markdown",
   "metadata": {},
   "source": [
    "Data cleaning method to remove unwanted data entry, In this case we look at close price in particular"
   ]
  },
  {
   "cell_type": "code",
   "execution_count": 84,
   "metadata": {},
   "outputs": [
    {
     "data": {
      "image/png": "[encoded data removed]",
      "text/plain": [
       "<Figure size 432x288 with 1 Axes>"
      ]
     },
     "metadata": {
      "needs_background": "light"
     },
     "output_type": "display_data"
    }
   ],
   "source": [
    "dataset['Date'] = pd.to_datetime(dataset['Date'])\n",
    "dataset['Close'] = pd.to_numeric(dataset['Close'], downcast='float')\n",
    "dataset.set_index('Date',inplace=True)\n",
    "\n",
    "close = dataset['Close']\n",
    "close = close.values.reshape(len(close), 1)\n",
    "plt.plot(close)\n",
    "plt.show()"
   ]
  },
  {
   "cell_type": "markdown",
   "metadata": {},
   "source": [
    "The below function creates sets of time series data which would be used to fit into my deep learning model"
   ]
  },
  {
   "cell_type": "code",
   "execution_count": 85,
   "metadata": {},
   "outputs": [],
   "source": [
    "series=7\n",
    "def create_ts(ds, series=7):\n",
    "    X, Y =[], []\n",
    "    for i in range(len(ds)-series - 1):\n",
    "        item = ds[i:(i+series), 0]\n",
    "        X.append(item)\n",
    "        Y.append(ds[i+series, 0])\n",
    "    return np.array(X), np.array(Y)\n"
   ]
  },
  {
   "cell_type": "markdown",
   "metadata": {},
   "source": [
    "### LSTM method for stock prediction"
   ]
  },
  {
   "cell_type": "code",
   "execution_count": 86,
   "metadata": {},
   "outputs": [],
   "source": [
    "scaler = MinMaxScaler(feature_range=(0,1))\n",
    "close  = scaler.fit_transform(close)\n",
    "TrainData , TestData = close[0:220], close[220:]"
   ]
  },
  {
   "cell_type": "code",
   "execution_count": 87,
   "metadata": {},
   "outputs": [],
   "source": [
    "trainX, trainY = create_ts(TrainData, series=7)\n",
    "testX, testY = create_ts(TestData, series=7)\n",
    "\n",
    "trainX = np.reshape(trainX, (trainX.shape[0], trainX.shape[1], 1))\n",
    "testX = np.reshape(testX, (testX.shape[0], testX.shape[1], 1))\n"
   ]
  },
  {
   "cell_type": "code",
   "execution_count": 88,
   "metadata": {},
   "outputs": [
    {
     "name": "stdout",
     "output_type": "stream",
     "text": [
      "Epoch 1/50\n",
      "212/212 [==============================] - 3s 14ms/step - loss: 0.3520\n",
      "Epoch 2/50\n",
      "212/212 [==============================] - 0s 788us/step - loss: 0.1742\n",
      "Epoch 3/50\n",
      "212/212 [==============================] - 0s 929us/step - loss: 0.0433\n",
      "Epoch 4/50\n",
      "212/212 [==============================] - 0s 1ms/step - loss: 0.0255\n",
      "Epoch 5/50\n",
      "212/212 [==============================] - 0s 927us/step - loss: 0.0202\n",
      "Epoch 6/50\n",
      "212/212 [==============================] - 0s 748us/step - loss: 0.0169\n",
      "Epoch 7/50\n",
      "212/212 [==============================] - 0s 789us/step - loss: 0.0205\n",
      "Epoch 8/50\n",
      "212/212 [==============================] - 0s 1ms/step - loss: 0.0152\n",
      "Epoch 9/50\n",
      "212/212 [==============================] - 0s 832us/step - loss: 0.0143\n",
      "Epoch 10/50\n",
      "212/212 [==============================] - 0s 753us/step - loss: 0.0145\n",
      "Epoch 11/50\n",
      "212/212 [==============================] - 0s 945us/step - loss: 0.0147\n",
      "Epoch 12/50\n",
      "212/212 [==============================] - 0s 752us/step - loss: 0.0150\n",
      "Epoch 13/50\n",
      "212/212 [==============================] - 0s 842us/step - loss: 0.0153\n",
      "Epoch 14/50\n",
      "212/212 [==============================] - 0s 823us/step - loss: 0.0133\n",
      "Epoch 15/50\n",
      "212/212 [==============================] - 0s 723us/step - loss: 0.0124\n",
      "Epoch 16/50\n",
      "212/212 [==============================] - 0s 813us/step - loss: 0.0145\n",
      "Epoch 17/50\n",
      "212/212 [==============================] - 0s 810us/step - loss: 0.0144\n",
      "Epoch 18/50\n",
      "212/212 [==============================] - 0s 715us/step - loss: 0.0146\n",
      "Epoch 19/50\n",
      "212/212 [==============================] - 0s 751us/step - loss: 0.0140\n",
      "Epoch 20/50\n",
      "212/212 [==============================] - 0s 1ms/step - loss: 0.0129\n",
      "Epoch 21/50\n",
      "212/212 [==============================] - 0s 713us/step - loss: 0.0136\n",
      "Epoch 22/50\n",
      "212/212 [==============================] - 0s 976us/step - loss: 0.0137\n",
      "Epoch 23/50\n",
      "212/212 [==============================] - 0s 762us/step - loss: 0.0143\n",
      "Epoch 24/50\n",
      "212/212 [==============================] - 0s 791us/step - loss: 0.0135\n",
      "Epoch 25/50\n",
      "212/212 [==============================] - 0s 750us/step - loss: 0.0124\n",
      "Epoch 26/50\n",
      "212/212 [==============================] - 0s 1ms/step - loss: 0.0131\n",
      "Epoch 27/50\n",
      "212/212 [==============================] - 0s 688us/step - loss: 0.0128\n",
      "Epoch 28/50\n",
      "212/212 [==============================] - 0s 766us/step - loss: 0.0122\n",
      "Epoch 29/50\n",
      "212/212 [==============================] - 0s 935us/step - loss: 0.0133\n",
      "Epoch 30/50\n",
      "212/212 [==============================] - 0s 806us/step - loss: 0.0142\n",
      "Epoch 31/50\n",
      "212/212 [==============================] - 0s 734us/step - loss: 0.0135\n",
      "Epoch 32/50\n",
      "212/212 [==============================] - 0s 785us/step - loss: 0.0133\n",
      "Epoch 33/50\n",
      "212/212 [==============================] - 0s 823us/step - loss: 0.0136\n",
      "Epoch 34/50\n",
      "212/212 [==============================] - 0s 749us/step - loss: 0.0121\n",
      "Epoch 35/50\n",
      "212/212 [==============================] - 0s 821us/step - loss: 0.0143\n",
      "Epoch 36/50\n",
      "212/212 [==============================] - 0s 798us/step - loss: 0.0133\n",
      "Epoch 37/50\n",
      "212/212 [==============================] - 0s 702us/step - loss: 0.0136\n",
      "Epoch 38/50\n",
      "212/212 [==============================] - 0s 905us/step - loss: 0.0125\n",
      "Epoch 39/50\n",
      "212/212 [==============================] - 0s 744us/step - loss: 0.0137\n",
      "Epoch 40/50\n",
      "212/212 [==============================] - 0s 753us/step - loss: 0.0124\n",
      "Epoch 41/50\n",
      "212/212 [==============================] - 0s 776us/step - loss: 0.0129\n",
      "Epoch 42/50\n",
      "212/212 [==============================] - 0s 793us/step - loss: 0.0135\n",
      "Epoch 43/50\n",
      "212/212 [==============================] - 0s 743us/step - loss: 0.0123\n",
      "Epoch 44/50\n",
      "212/212 [==============================] - 0s 790us/step - loss: 0.0140\n",
      "Epoch 45/50\n",
      "212/212 [==============================] - 0s 938us/step - loss: 0.0128\n",
      "Epoch 46/50\n",
      "212/212 [==============================] - 0s 873us/step - loss: 0.0135\n",
      "Epoch 47/50\n",
      "212/212 [==============================] - 0s 962us/step - loss: 0.0124\n",
      "Epoch 48/50\n",
      "212/212 [==============================] - 0s 699us/step - loss: 0.0126\n",
      "Epoch 49/50\n",
      "212/212 [==============================] - 0s 1ms/step - loss: 0.0127\n",
      "Epoch 50/50\n",
      "212/212 [==============================] - 0s 986us/step - loss: 0.0123\n"
     ]
    },
    {
     "data": {
      "text/plain": [
       "<keras.callbacks.History at 0x12188d438>"
      ]
     },
     "execution_count": 88,
     "metadata": {},
     "output_type": "execute_result"
    }
   ],
   "source": [
    "model = Sequential()\n",
    "model.add(LSTM(16, return_sequences=True, input_shape=(series, 1)))\n",
    "model.add(Dropout(0.2))\n",
    "model.add(LSTM(30, return_sequences=False, input_shape=(series, 1)))\n",
    "model.add(Dense(1))\n",
    "model.add(Activation('linear'))\n",
    "\n",
    "\n",
    "model.compile(loss='mse', optimizer='adam')\n",
    "model.fit(trainX, trainY, epochs=50, batch_size=30)"
   ]
  },
  {
   "cell_type": "code",
   "execution_count": 89,
   "metadata": {},
   "outputs": [
    {
     "data": {
      "image/png": "[encoded data removed]",
      "text/plain": [
       "<Figure size 432x288 with 1 Axes>"
      ]
     },
     "metadata": {
      "needs_background": "light"
     },
     "output_type": "display_data"
    }
   ],
   "source": [
    "trainPredictions = model.predict(trainX)\n",
    "testPredictions = model.predict(testX)\n",
    "\n",
    "trainPredictions = scaler.inverse_transform(trainPredictions)\n",
    "testPredictions = scaler.inverse_transform(testPredictions)\n",
    "\n",
    "trainY = scaler.inverse_transform([trainY])\n",
    "testY = scaler.inverse_transform([testY])\n",
    "\n",
    "\n",
    "train_plot = np.empty_like(close)\n",
    "train_plot[:,:] = np.nan\n",
    "train_plot[7:len(trainPredictions)+series, :] = trainPredictions\n",
    "\n",
    "test_plot = np.empty_like(close)\n",
    "test_plot[:,:] = np.nan\n",
    "test_plot[len(trainPredictions)+(series*2)+1:len(close)-1, :] = testPredictions\n",
    "\n",
    "plt.plot(scaler.inverse_transform(close))\n",
    "plt.plot(train_plot)\n",
    "plt.plot(test_plot)\n",
    "\n",
    "plt.show()"
   ]
  },
  {
   "cell_type": "code",
   "execution_count": 90,
   "metadata": {},
   "outputs": [
    {
     "name": "stdout",
     "output_type": "stream",
     "text": [
      "Train score: %.2f rmse 2.203167002278515\n",
      "Test score: %.2f rmse 2.524453049515396\n"
     ]
    }
   ],
   "source": [
    "trainScore = math.sqrt(mean_squared_error(trainY[0], trainPredictions[:, 0]))\n",
    "testScore = math.sqrt(mean_squared_error(testY[0], testPredictions[:, 0]))\n",
    "print('Train score: %.2f rmse', trainScore)\n",
    "print('Test score: %.2f rmse', testScore)"
   ]
  },
  {
   "cell_type": "markdown",
   "metadata": {},
   "source": [
    "### Gaussian process regressor"
   ]
  },
  {
   "cell_type": "code",
   "execution_count": 91,
   "metadata": {},
   "outputs": [],
   "source": [
    "from sklearn.gaussian_process import GaussianProcessRegressor\n",
    "from sklearn.gaussian_process.kernels import RBF, ConstantKernel, Matern"
   ]
  },
  {
   "cell_type": "code",
   "execution_count": 92,
   "metadata": {},
   "outputs": [
    {
     "name": "stdout",
     "output_type": "stream",
     "text": [
      "(212, 7) (212,)\n",
      "(24, 7) (24,)\n"
     ]
    }
   ],
   "source": [
    "trainX, trainY = create_ts(TrainData, series=7)\n",
    "testX, testY = create_ts(TestData, series=7)\n",
    "\n",
    "trainX = np.reshape(trainX, (trainX.shape[0], trainX.shape[1]))\n",
    "testX = np.reshape(testX, (testX.shape[0], testX.shape[1]))\n",
    "\n",
    "\n",
    "print (trainX.shape, trainY.shape)\n",
    "print(testX.shape, testY.shape)\n"
   ]
  },
  {
   "cell_type": "code",
   "execution_count": 93,
   "metadata": {},
   "outputs": [
    {
     "data": {
      "text/plain": [
       "GaussianProcessRegressor(alpha=1e-10, copy_X_train=True,\n",
       "             kernel=Matern(length_scale=1, nu=1.5) * RBF(length_scale=10),\n",
       "             n_restarts_optimizer=9, normalize_y=False,\n",
       "             optimizer='fmin_l_bfgs_b', random_state=None)"
      ]
     },
     "execution_count": 93,
     "metadata": {},
     "output_type": "execute_result"
    }
   ],
   "source": [
    "kernel = Matern(1.0, (1e-3, 1e3)) * RBF(10, (1e-2, 1e2))\n",
    "\n",
    "gpr = GaussianProcessRegressor(kernel=kernel, n_restarts_optimizer=9)\n",
    "gpr.fit(trainX, trainY)\n"
   ]
  },
  {
   "cell_type": "code",
   "execution_count": 94,
   "metadata": {},
   "outputs": [
    {
     "name": "stdout",
     "output_type": "stream",
     "text": [
      "(212, 1)\n",
      "(24, 1)\n"
     ]
    },
    {
     "data": {
      "image/png": "[encoded data removed]",
      "text/plain": [
       "<Figure size 432x288 with 1 Axes>"
      ]
     },
     "metadata": {
      "needs_background": "light"
     },
     "output_type": "display_data"
    }
   ],
   "source": [
    "trainPredictions = gpr.predict(trainX)\n",
    "testPredictions = gpr.predict(testX)\n",
    "\n",
    "\n",
    "trainPredictions = np.reshape(trainPredictions, [212,1])\n",
    "testPredictions = np.reshape(testPredictions, [24,1])\n",
    "\n",
    "print(trainPredictions.shape)\n",
    "print(testPredictions.shape)\n",
    "\n",
    "\n",
    "trainPredictions = scaler.inverse_transform(trainPredictions)\n",
    "testPredictions = scaler.inverse_transform(testPredictions)\n",
    "\n",
    "trainY = np.reshape(trainY, [212,1])\n",
    "testY = np.reshape(testY, [24,1])\n",
    "trainY = scaler.inverse_transform(trainY)\n",
    "testY = scaler.inverse_transform(testY)\n",
    "\n",
    "train_plot = np.empty_like(close)\n",
    "train_plot[:,:] = np.nan\n",
    "train_plot[7:len(trainPredictions)+series, :] = trainPredictions\n",
    "\n",
    "\n",
    "test_plot = np.empty_like(close)\n",
    "test_plot[:,:] = np.nan\n",
    "test_plot[len(trainPredictions)+(series*2)+1:len(close)-1, :] = testPredictions\n",
    "\n",
    "\n",
    "#future_plot = np.empty_like(close)\n",
    "#test_plot[:,:] = np.nan\n",
    "\n",
    "plt.plot(scaler.inverse_transform(close))\n",
    "plt.plot(train_plot)\n",
    "plt.plot(test_plot)\n",
    "\n",
    "plt.show()\n"
   ]
  },
  {
   "cell_type": "code",
   "execution_count": 95,
   "metadata": {},
   "outputs": [
    {
     "name": "stdout",
     "output_type": "stream",
     "text": [
      "(24, 1) (24, 1)\n",
      "Train score: %.2f rmse 3.352558465508082e-06\n",
      "Test score: %.2f rmse 2.81052056235319\n"
     ]
    }
   ],
   "source": [
    "print(testY.shape, testPredictions.shape)\n",
    "\n",
    "trainScore = math.sqrt(mean_squared_error(trainY[0], trainPredictions[0]))\n",
    "testScore = math.sqrt(mean_squared_error(testY[0], testPredictions[0]))\n",
    "print('Train score: %.2f rmse', trainScore)\n",
    "print('Test score: %.2f rmse', testScore)"
   ]
  },
  {
   "cell_type": "code",
   "execution_count": null,
   "metadata": {},
   "outputs": [],
   "source": []
  },
  {
   "cell_type": "code",
   "execution_count": null,
   "metadata": {},
   "outputs": [],
   "source": []
  },
  {
   "cell_type": "code",
   "execution_count": null,
   "metadata": {},
   "outputs": [],
   "source": []
  },
  {
   "cell_type": "code",
   "execution_count": null,
   "metadata": {},
   "outputs": [],
   "source": []
  },
  {
   "cell_type": "code",
   "execution_count": null,
   "metadata": {},
   "outputs": [],
   "source": []
  }
 ],
 "metadata": {
  "kernelspec": {
   "display_name": "Python 3",
   "language": "python",
   "name": "python3"
  },
  "language_info": {
   "codemirror_mode": {
    "name": "ipython",
    "version": 3
   },
   "file_extension": ".py",
   "mimetype": "text/x-python",
   "name": "python",
   "nbconvert_exporter": "python",
   "pygments_lexer": "ipython3",
   "version": "3.6.5"
  }
 },
 "nbformat": 4,
 "nbformat_minor": 2
}
